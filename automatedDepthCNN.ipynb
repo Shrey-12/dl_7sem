{
  "nbformat": 4,
  "nbformat_minor": 0,
  "metadata": {
    "colab": {
      "provenance": [],
      "gpuType": "T4"
    },
    "kernelspec": {
      "name": "python3",
      "display_name": "Python 3"
    },
    "language_info": {
      "name": "python"
    },
    "accelerator": "GPU"
  },
  "cells": [
    {
      "cell_type": "markdown",
      "source": [
        "# CNN Model"
      ],
      "metadata": {
        "id": "ZfMU_2baf_4u"
      }
    },
    {
      "cell_type": "code",
      "execution_count": 1,
      "metadata": {
        "id": "U5BlkwFOWFPU"
      },
      "outputs": [],
      "source": [
        "import torch\n",
        "import torch.nn as nn\n",
        "import torch.optim as optim\n",
        "import torchvision\n",
        "import torchvision.transforms as transforms\n",
        "from torch.utils.data import DataLoader\n",
        "import torch.nn.functional as F\n",
        "\n",
        "class CustomCNN(nn.Module):\n",
        "    def __init__(self, input_size, conv_layers, output_size):\n",
        "        super(CustomCNN, self).__init__()\n",
        "\n",
        "        self.conv_layers = nn.ModuleList()\n",
        "        self.flatten_layers = nn.ModuleList()\n",
        "        in_channels = 1\n",
        "\n",
        "        self.current_size = input_size\n",
        "        self.intermediate_sizes = []\n",
        "\n",
        "        for (out_channels, kernel_size, stride, padding,pooling_kernel,pooling_stride) in conv_layers:\n",
        "            conv = nn.Conv2d(in_channels, out_channels, kernel_size, stride=stride, padding=padding)\n",
        "            self.conv_layers.append(conv)\n",
        "            self.conv_layers.append(nn.ReLU())\n",
        "            self.conv_layers.append(nn.MaxPool2d(kernel_size=pooling_kernel, stride=pooling_stride))\n",
        "\n",
        "            self.current_size = (self.current_size - kernel_size + 2 * padding) // stride + 1\n",
        "            self.current_size = (self.current_size - pooling_kernel) // pooling_stride + 1\n",
        "            self.intermediate_sizes.append((out_channels, self.current_size, self.current_size))\n",
        "            in_channels = out_channels\n",
        "\n",
        "        # Compute the flatten size\n",
        "        self.flatten_size = 0\n",
        "        for (out_channels, size, _) in self.intermediate_sizes:\n",
        "            self.flatten_size += out_channels * size * size\n",
        "\n",
        "        self.fc1 = nn.Linear(self.flatten_size, 512)\n",
        "        self.fc2 = nn.Linear(512, output_size)\n",
        "\n",
        "    def forward(self, x):\n",
        "        intermediate_outputs = []\n",
        "\n",
        "        for i, layer in enumerate(self.conv_layers):\n",
        "            x = layer(x)\n",
        "            if i % 3 == 2:  # After each pooling layer\n",
        "                intermediate_outputs.append(x.view(x.size(0), -1))\n",
        "\n",
        "        concatenated = torch.cat(intermediate_outputs, dim=1)\n",
        "        x = F.relu(self.fc1(concatenated))\n",
        "        x = self.fc2(x)\n",
        "        return x"
      ]
    },
    {
      "cell_type": "markdown",
      "source": [
        "# Dataset loading and hyper parameters"
      ],
      "metadata": {
        "id": "00PzJgsDf8ZO"
      }
    },
    {
      "cell_type": "code",
      "source": [
        "input_size = 28\n",
        "# channels, kernel, stride, padding, pooling kernel size, pooling stride\n",
        "# len(conv_layers) == no of convolution layers\n",
        "conv_layers = [\n",
        "    (16, 3, 1, 1,2,2),\n",
        "    (32, 3, 1, 1,2,2)\n",
        "]\n",
        "output_size = 10\n",
        "batch_size = 64\n",
        "learning_rate = 0.001\n",
        "num_epochs = 5\n",
        "\n",
        "# Load MNIST dataset\n",
        "transform = transforms.Compose([\n",
        "    transforms.ToTensor(),\n",
        "    transforms.Normalize((0.5,), (0.5,))\n",
        "])\n",
        "\n",
        "train_dataset = torchvision.datasets.MNIST(root='./data', train=True, transform=transform, download=True)\n",
        "test_dataset = torchvision.datasets.MNIST(root='./data', train=False, transform=transform, download=True)\n",
        "\n",
        "train_loader = DataLoader(dataset=train_dataset, batch_size=batch_size, shuffle=True)\n",
        "test_loader = DataLoader(dataset=test_dataset, batch_size=batch_size, shuffle=False)\n",
        "\n",
        "# Initialize the model, loss function, and optimizer\n",
        "model = CustomCNN(input_size, conv_layers, output_size)\n",
        "criterion = nn.CrossEntropyLoss()\n",
        "optimizer = optim.Adam(model.parameters(), lr=learning_rate)"
      ],
      "metadata": {
        "collapsed": true,
        "id": "vlejHZKXWMGI"
      },
      "execution_count": 2,
      "outputs": []
    },
    {
      "cell_type": "markdown",
      "source": [
        "# Training"
      ],
      "metadata": {
        "id": "aSJYedyWf5aH"
      }
    },
    {
      "cell_type": "code",
      "source": [
        "for epoch in range(num_epochs):\n",
        "    model.train()\n",
        "    running_loss = 0.0\n",
        "    for images, labels in train_loader:\n",
        "        optimizer.zero_grad()\n",
        "        outputs = model(images)\n",
        "        loss = criterion(outputs, labels)\n",
        "        loss.backward()\n",
        "        optimizer.step()\n",
        "\n",
        "        running_loss += loss.item() * images.size(0)\n",
        "    epoch_loss = running_loss / len(train_loader.dataset)\n",
        "    print(f'Epoch {epoch+1}/{num_epochs}, Loss: {epoch_loss:.4f}')"
      ],
      "metadata": {
        "colab": {
          "base_uri": "https://localhost:8080/"
        },
        "id": "90UwNbFIcy2z",
        "outputId": "c7447b8c-3726-4d98-d478-0718dc54c185"
      },
      "execution_count": 3,
      "outputs": [
        {
          "output_type": "stream",
          "name": "stdout",
          "text": [
            "Epoch 1/5, Loss: 0.1937\n",
            "Epoch 2/5, Loss: 0.0512\n",
            "Epoch 3/5, Loss: 0.0367\n",
            "Epoch 4/5, Loss: 0.0259\n",
            "Epoch 5/5, Loss: 0.0185\n"
          ]
        }
      ]
    },
    {
      "cell_type": "markdown",
      "source": [
        "# Evaluation"
      ],
      "metadata": {
        "id": "m8d9W5EqgJmu"
      }
    },
    {
      "cell_type": "code",
      "source": [
        "model.eval()\n",
        "correct = 0\n",
        "total = 0\n",
        "\n",
        "with torch.no_grad():\n",
        "    for images, labels in test_loader:\n",
        "        outputs = model(images)\n",
        "        _, predicted = torch.max(outputs, 1)\n",
        "        total += labels.size(0)\n",
        "        correct += (predicted == labels).sum().item()\n",
        "\n",
        "accuracy = 100 * correct / total\n",
        "print(f'Accuracy of the network on the test images: {accuracy:.2f}%')"
      ],
      "metadata": {
        "colab": {
          "base_uri": "https://localhost:8080/"
        },
        "id": "1Ouj5JZffNgm",
        "outputId": "3b57e19e-07e5-412c-8da7-28367024ca78"
      },
      "execution_count": 4,
      "outputs": [
        {
          "output_type": "stream",
          "name": "stdout",
          "text": [
            "Accuracy of the network on the test images: 99.13%\n"
          ]
        }
      ]
    },
    {
      "cell_type": "code",
      "source": [],
      "metadata": {
        "id": "uXjQuOy5havl"
      },
      "execution_count": 4,
      "outputs": []
    }
  ]
}